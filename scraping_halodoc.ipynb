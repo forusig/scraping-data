{
  "nbformat": 4,
  "nbformat_minor": 0,
  "metadata": {
    "colab": {
      "provenance": [],
      "include_colab_link": true
    },
    "kernelspec": {
      "name": "python3",
      "display_name": "Python 3"
    },
    "language_info": {
      "name": "python"
    }
  },
  "cells": [
    {
      "cell_type": "markdown",
      "metadata": {
        "id": "view-in-github",
        "colab_type": "text"
      },
      "source": [
        "<a href=\"https://colab.research.google.com/github/forusig/scraping-data/blob/main/scraping_halodoc.ipynb\" target=\"_parent\"><img src=\"https://colab.research.google.com/assets/colab-badge.svg\" alt=\"Open In Colab\"/></a>"
      ]
    },
    {
      "cell_type": "markdown",
      "source": [
        "# scraping data web halodoc"
      ],
      "metadata": {
        "id": "ItE5fxeMtxEw"
      }
    },
    {
      "cell_type": "code",
      "execution_count": null,
      "metadata": {
        "colab": {
          "base_uri": "https://localhost:8080/"
        },
        "id": "KnJv0DU-g7gS",
        "outputId": "356f9d66-6b0e-4c96-c06b-94d87fcaf3d6"
      },
      "outputs": [
        {
          "output_type": "stream",
          "name": "stdout",
          "text": [
            "Requirement already satisfied: beautifulsoup4 in /usr/local/lib/python3.10/dist-packages (4.12.3)\n",
            "Requirement already satisfied: soupsieve>1.2 in /usr/local/lib/python3.10/dist-packages (from beautifulsoup4) (2.6)\n"
          ]
        }
      ],
      "source": [
        "pip install beautifulsoup4"
      ]
    },
    {
      "cell_type": "code",
      "source": [
        "import requests\n",
        "from bs4 import BeautifulSoup\n",
        "from csv import writer"
      ],
      "metadata": {
        "id": "uxU2OUrahLBS"
      },
      "execution_count": null,
      "outputs": []
    },
    {
      "cell_type": "code",
      "source": [
        "url = \"https://www.halodoc.com/tanya-dokter/cari?category_id=1b0958fc-9ae5-4b7d-acf7-47a5719f154c\"\n",
        "res = requests.get(url)\n",
        "html = BeautifulSoup(res.text, 'html.parser')\n",
        "\n",
        "list_doctor = []"
      ],
      "metadata": {
        "id": "Z3Ca6k5EhWJw"
      },
      "execution_count": null,
      "outputs": []
    },
    {
      "cell_type": "code",
      "source": [
        "for item in html.find_all(\"div\", class_=\"hd-base-horizontal-card__content\"):\n",
        "    x = item.find(\"p\", class_=\"hd-base-horizontal-card__title ng-star-inserted\")\n",
        "    x = x.text\n",
        "    list_doctor.append(x)\n"
      ],
      "metadata": {
        "id": "DnffpwY5h0rP"
      },
      "execution_count": null,
      "outputs": []
    },
    {
      "cell_type": "code",
      "source": [
        "with open('/content/sample_data/doctor.csv', 'w') as csv_file:\n",
        "    csv_writer = writer(csv_file)\n",
        "    headers = ['Nama Doctor']\n",
        "    csv_writer.writerow(headers)\n",
        "\n",
        "    for item in list_doctor:\n",
        "      item = item.replace(\"\\n\", \"\")\n",
        "      csv_writer.writerow([item])"
      ],
      "metadata": {
        "id": "VHV5KNM1mLmq"
      },
      "execution_count": null,
      "outputs": []
    }
  ]
}