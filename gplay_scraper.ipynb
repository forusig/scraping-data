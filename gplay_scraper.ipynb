{
  "nbformat": 4,
  "nbformat_minor": 0,
  "metadata": {
    "colab": {
      "provenance": [],
      "include_colab_link": true
    },
    "kernelspec": {
      "name": "python3",
      "display_name": "Python 3"
    },
    "language_info": {
      "name": "python"
    }
  },
  "cells": [
    {
      "cell_type": "markdown",
      "metadata": {
        "id": "view-in-github",
        "colab_type": "text"
      },
      "source": [
        "<a href=\"https://colab.research.google.com/github/forusig/scraping-data/blob/main/gplay_scraper.ipynb\" target=\"_parent\"><img src=\"https://colab.research.google.com/assets/colab-badge.svg\" alt=\"Open In Colab\"/></a>"
      ]
    },
    {
      "cell_type": "markdown",
      "source": [
        "## scraping data menggunakan google play scraper"
      ],
      "metadata": {
        "id": "c0zuGrxpvAWc"
      }
    },
    {
      "cell_type": "code",
      "source": [
        "!pip install google-play-scraper"
      ],
      "metadata": {
        "colab": {
          "base_uri": "https://localhost:8080/"
        },
        "id": "B66yOcLplVQi",
        "outputId": "c8e825aa-29c5-4ad6-dbca-4c16c58beaac"
      },
      "execution_count": null,
      "outputs": [
        {
          "output_type": "stream",
          "name": "stdout",
          "text": [
            "Collecting google-play-scraper\n",
            "  Downloading google_play_scraper-1.2.7-py3-none-any.whl.metadata (50 kB)\n",
            "\u001b[?25l     \u001b[90m━━━━━━━━━━━━━━━━━━━━━━━━━━━━━━━━━━━━━━━━\u001b[0m \u001b[32m0.0/50.2 kB\u001b[0m \u001b[31m?\u001b[0m eta \u001b[36m-:--:--\u001b[0m\r\u001b[2K     \u001b[90m━━━━━━━━━━━━━━━━━━━━━━━━━━━━━━━━━━━━━━━━\u001b[0m \u001b[32m50.2/50.2 kB\u001b[0m \u001b[31m1.6 MB/s\u001b[0m eta \u001b[36m0:00:00\u001b[0m\n",
            "\u001b[?25hDownloading google_play_scraper-1.2.7-py3-none-any.whl (28 kB)\n",
            "Installing collected packages: google-play-scraper\n",
            "Successfully installed google-play-scraper-1.2.7\n"
          ]
        }
      ]
    },
    {
      "cell_type": "code",
      "source": [
        "from google_play_scraper import reviews, Sort\n",
        "import pandas as pd"
      ],
      "metadata": {
        "id": "SNQc8iKdlgrJ"
      },
      "execution_count": null,
      "outputs": []
    },
    {
      "cell_type": "code",
      "source": [
        "app_id = 'com.netflix.mediaclient'\n",
        "\n",
        "# ambil ulasan\n",
        "ulasan, _ = reviews(\n",
        "    app_id,\n",
        "    lang='en',\n",
        "    country='us',\n",
        "    sort=Sort.NEWEST,\n",
        "    count=350\n",
        ")"
      ],
      "metadata": {
        "id": "PoJtNF5Tl95H"
      },
      "execution_count": null,
      "outputs": []
    },
    {
      "cell_type": "code",
      "source": [
        "df = pd.DataFrame(ulasan)"
      ],
      "metadata": {
        "id": "yUJP9oOUmEvF"
      },
      "execution_count": null,
      "outputs": []
    },
    {
      "cell_type": "code",
      "source": [
        "print(df[['content', 'score']].head())"
      ],
      "metadata": {
        "colab": {
          "base_uri": "https://localhost:8080/"
        },
        "id": "uBwFAYA5mJgV",
        "outputId": "8ec37ba9-7d90-4f26-8820-a0ef62cb339b"
      },
      "execution_count": null,
      "outputs": [
        {
          "output_type": "stream",
          "name": "stdout",
          "text": [
            "                                             content  score\n",
            "0                                     Can not log in      1\n",
            "1  Really nice app, while really buggy at least o...      3\n",
            "2                    App is crashing very frequently      1\n",
            "3  One of the worst months in history for Netflix...      2\n",
            "4                                              Great      5\n"
          ]
        }
      ]
    },
    {
      "cell_type": "code",
      "source": [
        "df[['content', 'score']].to_csv('netflix.csv', index=False, encoding='utf-8')\n",
        "print(\"File CSV berhasil disimpan.\")"
      ],
      "metadata": {
        "colab": {
          "base_uri": "https://localhost:8080/"
        },
        "id": "rOTAHZ_imQph",
        "outputId": "c7389958-a514-430a-e876-dae5cca1ae0b"
      },
      "execution_count": null,
      "outputs": [
        {
          "output_type": "stream",
          "name": "stdout",
          "text": [
            "File CSV berhasil disimpan.\n"
          ]
        }
      ]
    }
  ]
}